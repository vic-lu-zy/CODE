{
 "cells": [
  {
   "cell_type": "markdown",
   "metadata": {},
   "source": [
    "# fitcecoc\n",
    "Fit multiclass models for support vector machines or other classifiers"
   ]
  },
  {
   "cell_type": "markdown",
   "metadata": {},
   "source": [
    "## Syntax\n",
    "Mdl = fitcecoc(X,Y)\n",
    "\n",
    "Mdl = fitcecoc(X,Y,Name,Value)"
   ]
  },
  {
   "cell_type": "markdown",
   "metadata": {},
   "source": [
    "##Description\n",
    "Mdl = fitcecoc(X,Y) returns a full, trained error-correcting output codes (ECOC) multiclass model using the predictors X and the class labels Y. By default, fitcecoc uses K(K – 1)/2 binary support vector machine (SVM) models using the one-versus-one coding design, where K is the number of unique class labels (levels). Mdl is a ClassificationECOC model.\n",
    "\n",
    "Mdl = fitcecoc(X,Y,Name,Value) returns an ECOC model with additional options specified by one or more Name,Value pair arguments.\n",
    "\n",
    "For example, specify different binary learners, a different coding design, or to cross validate. It is good practice to cross validate using the Kfold Name,Value pair argument. The cross-validation results determine how well the ECOC classifier generalizes."
   ]
  },
  {
   "cell_type": "markdown",
   "metadata": {},
   "source": [
    "##Examples"
   ]
  },
  {
   "cell_type": "markdown",
   "metadata": {},
   "source": [
    "### Train a Multiclass Model Using SVM Learners\n",
    "Train an error-correcting output codes (ECOC) multiclass model using support vector machine (SVM) binary learners."
   ]
  },
  {
   "cell_type": "markdown",
   "metadata": {},
   "source": [
    "Load Fisher's iris data set."
   ]
  },
  {
   "cell_type": "code",
   "execution_count": 6,
   "metadata": {
    "collapsed": false
   },
   "outputs": [
    {
     "data": {},
     "execution_count": 6,
     "metadata": {},
     "output_type": "execute_result"
    }
   ],
   "source": [
    "load fisheriris\n",
    "X = meas;\n",
    "Y = species;"
   ]
  },
  {
   "cell_type": "markdown",
   "metadata": {},
   "source": [
    "Train an ECOC multiclass model using the default options."
   ]
  },
  {
   "cell_type": "code",
   "execution_count": 7,
   "metadata": {
    "collapsed": false
   },
   "outputs": [
    {
     "data": {
      "text/plain": [
       "Mdl = \r\n",
       "\r\n",
       "  ClassificationECOC\r\n",
       "    PredictorNames: {'x1'  'x2'  'x3'  'x4'}\r\n",
       "      ResponseName: 'Y'\r\n",
       "        ClassNames: {'setosa'  'versicolor'  'virginica'}\r\n",
       "    ScoreTransform: 'none'\r\n",
       "    BinaryLearners: {3x1 cell}\r\n",
       "        CodingName: 'onevsone'"
      ]
     },
     "execution_count": 7,
     "metadata": {},
     "output_type": "execute_result"
    }
   ],
   "source": [
    "Mdl = fitcecoc(X,Y)"
   ]
  },
  {
   "cell_type": "markdown",
   "metadata": {},
   "source": [
    "Mld is a ClassificationECOC model. By default, fitcecoc uses SVM binary learners, and uses a one-versus-one coding design. You can access Mdl properties using dot notation."
   ]
  },
  {
   "cell_type": "markdown",
   "metadata": {},
   "source": [
    "Display the coding design matrix."
   ]
  },
  {
   "cell_type": "code",
   "execution_count": 10,
   "metadata": {
    "collapsed": false
   },
   "outputs": [
    {
     "data": {
      "text/plain": [
       "ans = \r\n",
       "\r\n",
       "    'setosa'\r\n",
       "    'versicolor'\r\n",
       "    'virginica'\r\n",
       "\r\n",
       "\r\n",
       "CodingMat =\r\n",
       "\r\n",
       "     1     1     0\r\n",
       "    -1     0     1\r\n",
       "     0    -1    -1"
      ]
     },
     "execution_count": 10,
     "metadata": {},
     "output_type": "execute_result"
    }
   ],
   "source": [
    "Mdl.ClassNames\n",
    "CodingMat = Mdl.CodingMatrix"
   ]
  },
  {
   "cell_type": "markdown",
   "metadata": {},
   "source": [
    "A one-versus-one coding design on three classes yields three binary learners. Columns of CodingMat correspond to learners and rows correspond to classes. The class order corresponds to the order in Mdl.ClassNames. For example, CodingMat(:,1) is [1; -1; 0], and indicates that the software trains the first SVM binary learner using all observations classified as 'setosa' and 'versicolor'. Since 'setosa' corresponds to 1, it is the positive class, and since 'versicolor' corresponds to -1, it is the negative class."
   ]
  },
  {
   "cell_type": "markdown",
   "metadata": {},
   "source": [
    "You can access each binary learner using cell indexing and dot notation."
   ]
  },
  {
   "cell_type": "code",
   "execution_count": 11,
   "metadata": {
    "collapsed": false
   },
   "outputs": [
    {
     "data": {
      "text/plain": [
       "ans = \r\n",
       "\r\n",
       "  classreg.learning.classif.CompactClassificationSVM\r\n",
       "      PredictorNames: {'x1'  'x2'  'x3'  'x4'}\r\n",
       "        ResponseName: 'Y'\r\n",
       "          ClassNames: [-1 1]\r\n",
       "      ScoreTransform: 'none'\r\n",
       "                Beta: [4x1 double]\r\n",
       "                Bias: 1.4505\r\n",
       "    KernelParameters: [1x1 struct]\r\n",
       "\r\n",
       "\r\n",
       "\r\n",
       "ans =\r\n",
       "\r\n",
       "     []"
      ]
     },
     "execution_count": 11,
     "metadata": {},
     "output_type": "execute_result"
    }
   ],
   "source": [
    "Mdl.BinaryLearners{1}                % The first binary learner\n",
    "Mdl.BinaryLearners{1}.SupportVectors % Support vector indices"
   ]
  },
  {
   "cell_type": "markdown",
   "metadata": {},
   "source": [
    "Compute the in-sample classification error."
   ]
  },
  {
   "cell_type": "code",
   "execution_count": 5,
   "metadata": {
    "collapsed": false
   },
   "outputs": [
    {
     "data": {
      "text/plain": [
       "isLoss =\r\n",
       "\r\n",
       "    0.0067"
      ]
     },
     "execution_count": 5,
     "metadata": {},
     "output_type": "execute_result"
    }
   ],
   "source": [
    "isLoss = resubLoss(Mdl)"
   ]
  },
  {
   "cell_type": "markdown",
   "metadata": {},
   "source": [
    "The classification error is small, but the classifier might have been overfit. You can cross validate the classifier using crossval."
   ]
  },
  {
   "cell_type": "markdown",
   "metadata": {},
   "source": [
    "###Cross Validate an ECOC Classifier\n",
    "Train a one-versus-one ECOC classifier using binary SVM learners."
   ]
  },
  {
   "cell_type": "markdown",
   "metadata": {},
   "source": [
    "Load Fisher's iris data set."
   ]
  },
  {
   "cell_type": "code",
   "execution_count": 12,
   "metadata": {
    "collapsed": false
   },
   "outputs": [
    {
     "data": {},
     "execution_count": 12,
     "metadata": {},
     "output_type": "execute_result"
    }
   ],
   "source": [
    "load fisheriris\n",
    "X = meas;\n",
    "Y = species;\n",
    "rng(1); % For reproducibility"
   ]
  },
  {
   "cell_type": "markdown",
   "metadata": {},
   "source": [
    "Create an SVM template. It is good practice to standardize the predictors."
   ]
  },
  {
   "cell_type": "code",
   "execution_count": 13,
   "metadata": {
    "collapsed": false
   },
   "outputs": [
    {
     "data": {
      "text/plain": [
       "t = \r\n",
       "\r\n",
       "Fit template for classification SVM.\r\n",
       "\r\n",
       "                     Alpha: [0x1 double]\r\n",
       "             BoxConstraint: []\r\n",
       "                 CacheSize: []\r\n",
       "             CachingMethod: ''\r\n",
       "    DeltaGradientTolerance: []\r\n",
       "              GapTolerance: []\r\n",
       "              KKTTolerance: []\r\n",
       "            IterationLimit: []\r\n",
       "            KernelFunction: ''\r\n",
       "               KernelScale: []\r\n",
       "              KernelOffset: []\r\n",
       "     KernelPolynomialOrder: []\r\n",
       "                  NumPrint: []\r\n",
       "                        Nu: []\r\n",
       "           OutlierFraction: []\r\n",
       "           ShrinkagePeriod: []\r\n",
       "                    Solver: ''\r\n",
       "           StandardizeData: 1\r\n",
       "        SaveSupportVectors: []\r\n",
       "            VerbosityLevel: []\r\n",
       "                    Method: 'SVM'\r\n",
       "                      Type: 'classification'"
      ]
     },
     "execution_count": 13,
     "metadata": {},
     "output_type": "execute_result"
    }
   ],
   "source": [
    "t = templateSVM('Standardize',1)"
   ]
  },
  {
   "cell_type": "markdown",
   "metadata": {},
   "source": [
    "t is an SVM template. All of its properties are empty, except for StandardizeData, Method, and Type. When the software trains the ECOC classifier, it sets the applicable properties to their default values."
   ]
  },
  {
   "cell_type": "markdown",
   "metadata": {},
   "source": [
    "Train the ECOC classifier. It is good practice to specify the class order."
   ]
  },
  {
   "cell_type": "code",
   "execution_count": 14,
   "metadata": {
    "collapsed": false
   },
   "outputs": [
    {
     "data": {},
     "execution_count": 14,
     "metadata": {},
     "output_type": "execute_result"
    }
   ],
   "source": [
    "Mdl = fitcecoc(X,Y,'Learners',t,...\n",
    "    'ClassNames',{'setosa','versicolor','virginica'});"
   ]
  },
  {
   "cell_type": "markdown",
   "metadata": {},
   "source": [
    "Mdl is a ClassificationECOC classifier. You can access its properties using dot notation."
   ]
  },
  {
   "cell_type": "markdown",
   "metadata": {},
   "source": [
    "Cross validate Mdl using 10-fold cross validation."
   ]
  },
  {
   "cell_type": "code",
   "execution_count": 15,
   "metadata": {
    "collapsed": false
   },
   "outputs": [
    {
     "data": {},
     "execution_count": 15,
     "metadata": {},
     "output_type": "execute_result"
    }
   ],
   "source": [
    "CVMdl = crossval(Mdl);"
   ]
  },
  {
   "cell_type": "markdown",
   "metadata": {},
   "source": [
    "CVMdl is a ClassificationPartitionedECOC cross-validated ECOC classifier."
   ]
  },
  {
   "cell_type": "markdown",
   "metadata": {},
   "source": [
    "Estimate the generalization error."
   ]
  },
  {
   "cell_type": "code",
   "execution_count": 16,
   "metadata": {
    "collapsed": false
   },
   "outputs": [
    {
     "data": {
      "text/plain": [
       "oosLoss =\r\n",
       "\r\n",
       "    0.0400"
      ]
     },
     "execution_count": 16,
     "metadata": {},
     "output_type": "execute_result"
    }
   ],
   "source": [
    "oosLoss = kfoldLoss(CVMdl)"
   ]
  },
  {
   "cell_type": "markdown",
   "metadata": {},
   "source": [
    "The out-of-sample classification error is 4%, which indicates that the ECOC classifier generalizes fairly well."
   ]
  },
  {
   "cell_type": "markdown",
   "metadata": {},
   "source": [
    "###Estimate Posterior Probabilities Using ECOC Classifiers"
   ]
  },
  {
   "cell_type": "markdown",
   "metadata": {},
   "source": [
    "Load Fisher's iris data set. Train the classifier using the petal dimension as predictors"
   ]
  },
  {
   "cell_type": "code",
   "execution_count": 17,
   "metadata": {
    "collapsed": false
   },
   "outputs": [
    {
     "data": {},
     "execution_count": 17,
     "metadata": {},
     "output_type": "execute_result"
    }
   ],
   "source": [
    "load 'fisheriris'\n",
    "X = meas(:,3:4);\n",
    "Y = species;\n",
    "rng(1); % For reproducibility"
   ]
  },
  {
   "cell_type": "markdown",
   "metadata": {},
   "source": [
    "Create an SVM template, and specify the Gaussian kernel. It is good practice to standardize the predictors."
   ]
  },
  {
   "cell_type": "code",
   "execution_count": 18,
   "metadata": {
    "collapsed": false
   },
   "outputs": [
    {
     "data": {},
     "execution_count": 18,
     "metadata": {},
     "output_type": "execute_result"
    }
   ],
   "source": [
    "t = templateSVM('Standardize',1,'KernelFunction','gaussian');"
   ]
  },
  {
   "cell_type": "markdown",
   "metadata": {},
   "source": [
    "t is an SVM template. Most of its properties are empty. When the software trains the ECOC classifier, it sets the applicable properties to their default values."
   ]
  },
  {
   "cell_type": "markdown",
   "metadata": {},
   "source": [
    "Train the ECOC classifier using the SVM template. Transform classification scores to class posterior probabilities (which are returned by predict or resubPredict) using the 'FitPosterior' name-value pair argument. Display diagnostic messages during the training using the 'Verbose' name-value pair argument. It is good practice to specify the class order."
   ]
  },
  {
   "cell_type": "code",
   "execution_count": 19,
   "metadata": {
    "collapsed": false
   },
   "outputs": [
    {
     "data": {
      "text/plain": [
       "Training binary learner 1 (SVM) out of 3 with 50 negative and 50 positive observations.\r\n",
       "Negative class indices: 2\r\n",
       "Positive class indices: 1\r\n",
       "\r\n",
       "Fitting posterior probabilities for learner 1 (SVM).\r\n",
       "Training binary learner 2 (SVM) out of 3 with 50 negative and 50 positive observations.\r\n",
       "Negative class indices: 3\r\n",
       "Positive class indices: 1\r\n",
       "\r\n",
       "Fitting posterior probabilities for learner 2 (SVM).\r\n",
       "Training binary learner 3 (SVM) out of 3 with 50 negative and 50 positive observations.\r\n",
       "Negative class indices: 3\r\n",
       "Positive class indices: 2\r\n",
       "\r\n",
       "Fitting posterior probabilities for learner 3 (SVM)."
      ]
     },
     "execution_count": 19,
     "metadata": {},
     "output_type": "execute_result"
    }
   ],
   "source": [
    "Mdl = fitcecoc(X,Y,'Learners',t,'FitPosterior',1,...\n",
    "    'ClassNames',{'setosa','versicolor','virginica'},...\n",
    "    'Verbose',2);"
   ]
  },
  {
   "cell_type": "markdown",
   "metadata": {},
   "source": [
    "Mdl is a ClassificationECOC model. The same SVM template applies to each binary learner, but you can adjust options for each binary learner by passing in a cell vector of templates."
   ]
  },
  {
   "cell_type": "markdown",
   "metadata": {},
   "source": [
    "Predict the in-sample labels and class posterior probabilities. Display diagnostic messages during the computation of labels and class posterior probabilities using the 'Verbose' name-value pair argument."
   ]
  },
  {
   "cell_type": "code",
   "execution_count": 20,
   "metadata": {
    "collapsed": false
   },
   "outputs": [
    {
     "data": {
      "text/plain": [
       "Predictions from all learners have been computed.\r\n",
       "Loss for all observations has been computed.\r\n",
       "Computing posterior probabilities...\r\n",
       "\r\n",
       "ans =\r\n",
       "\r\n",
       "quadratic"
      ]
     },
     "execution_count": 20,
     "metadata": {},
     "output_type": "execute_result"
    }
   ],
   "source": [
    "[label,~,~,Posterior] = resubPredict(Mdl,'Verbose',1);\n",
    "Mdl.BinaryLoss"
   ]
  },
  {
   "cell_type": "markdown",
   "metadata": {},
   "source": [
    "The software assigns an observation to the class that yields the smallest average binary loss. Since all binary learners are computing posterior probabilities, the binary loss function is quadratic."
   ]
  },
  {
   "cell_type": "markdown",
   "metadata": {},
   "source": [
    "Display a random set of results."
   ]
  },
  {
   "cell_type": "code",
   "execution_count": 21,
   "metadata": {
    "collapsed": false
   },
   "outputs": [
    {
     "data": {
      "text/plain": [
       "ans = \r\n",
       "\r\n",
       "    'setosa'\r\n",
       "    'versicolor'\r\n",
       "    'virginica'\r\n",
       "\r\n",
       "\r\n",
       "ans = \r\n",
       "\r\n",
       "     TrueLabel       PredLabel                    Posterior               \r\n",
       "    ____________    ____________    ______________________________________\r\n",
       "\r\n",
       "    'virginica'     'virginica'      0.0039321     0.0039869       0.99208\r\n",
       "    'virginica'     'virginica'       0.017067      0.018263       0.96467\r\n",
       "    'virginica'     'virginica'       0.014948      0.015856        0.9692\r\n",
       "    'versicolor'    'versicolor'    2.2197e-14       0.87317       0.12683\r\n",
       "    'setosa'        'setosa'             0.999    0.00025091    0.00074639\r\n",
       "    'versicolor'    'virginica'     2.2195e-14      0.059429       0.94057\r\n",
       "    'versicolor'    'versicolor'    2.2194e-14       0.97001      0.029986\r\n",
       "    'setosa'        'setosa'             0.999     0.0002499    0.00074741\r\n",
       "    'versicolor'    'versicolor'     0.0085646       0.98259      0.008849\r\n",
       "    'setosa'        'setosa'             0.999    0.00025013    0.00074718"
      ]
     },
     "execution_count": 21,
     "metadata": {},
     "output_type": "execute_result"
    }
   ],
   "source": [
    "idx = randsample(size(X,1),10,1);\n",
    "Mdl.ClassNames\n",
    "table(Y(idx),label(idx),Posterior(idx,:),...\n",
    "    'VariableNames',{'TrueLabel','PredLabel','Posterior'})"
   ]
  },
  {
   "cell_type": "markdown",
   "metadata": {},
   "source": [
    "The columns of Posterior correspond to the class order of Mdl.ClassNames."
   ]
  },
  {
   "cell_type": "markdown",
   "metadata": {},
   "source": [
    "Define a grid of values in the observed predictor space. Predict the posterior probabilities for each instance in the grid."
   ]
  },
  {
   "cell_type": "code",
   "execution_count": 22,
   "metadata": {
    "collapsed": false
   },
   "outputs": [
    {
     "data": {},
     "execution_count": 22,
     "metadata": {},
     "output_type": "execute_result"
    }
   ],
   "source": [
    "xMax = max(X);\n",
    "xMin = min(X);\n",
    "\n",
    "x1Pts = linspace(xMin(1),xMax(1));\n",
    "x2Pts = linspace(xMin(2),xMax(2));\n",
    "[x1Grid,x2Grid] = meshgrid(x1Pts,x2Pts);\n",
    "\n",
    "[~,~,~,PosteriorRegion] = predict(Mdl,[x1Grid(:),x2Grid(:)]);"
   ]
  },
  {
   "cell_type": "markdown",
   "metadata": {},
   "source": [
    "For each coordinate on the grid, plot the maximum class posterior probability among all classes."
   ]
  },
  {
   "cell_type": "code",
   "execution_count": 23,
   "metadata": {
    "collapsed": false
   },
   "outputs": [
    {
     "data": {
      "image/png": "[encoded data removed]",
      "text/plain": [
       "<IPython.core.display.Image object>"
      ]
     },
     "metadata": {},
     "output_type": "display_data"
    },
    {
     "data": {},
     "execution_count": 23,
     "metadata": {},
     "output_type": "execute_result"
    }
   ],
   "source": [
    "figure;\n",
    "contourf(x1Grid,x2Grid,...\n",
    "        reshape(max(PosteriorRegion,[],2),size(x1Grid,1),size(x1Grid,2)));\n",
    "h = colorbar;\n",
    "h.YLabel.String = 'Maximum posterior';\n",
    "h.YLabel.FontSize = 15;\n",
    "hold on\n",
    "gh = gscatter(X(:,1),X(:,2),Y,'krk','*xd',8);\n",
    "gh(2).LineWidth = 2;\n",
    "gh(3).LineWidth = 2;\n",
    "\n",
    "title 'Iris Petal Measurements and Maximum Posterior';\n",
    "xlabel 'Petal length (cm)';\n",
    "ylabel 'Petal width (cm)';\n",
    "axis tight\n",
    "legend(gh,'Location','NorthWest')\n",
    "hold off"
   ]
  },
  {
   "cell_type": "markdown",
   "metadata": {},
   "source": [
    "### Train ECOC Classifiers Using Ensembles and Parallel Computing\n",
    "Train a one-versus-all ECOC classifier using a GentleBoost ensemble of decision trees with surrogate splits. Estimate the classification error using 10-fold cross validation."
   ]
  },
  {
   "cell_type": "markdown",
   "metadata": {},
   "source": [
    "Load and inspect the arrhythmia data set."
   ]
  },
  {
   "cell_type": "code",
   "execution_count": 24,
   "metadata": {
    "collapsed": false
   },
   "outputs": [
    {
     "data": {
      "text/plain": [
       "n =\r\n",
       "\r\n",
       "   452\r\n",
       "\r\n",
       "\r\n",
       "p =\r\n",
       "\r\n",
       "   279\r\n",
       "\r\n",
       "\r\n",
       "nLabels =\r\n",
       "\r\n",
       "    13\r\n",
       "\r\n",
       "  Value    Count   Percent\r\n",
       "      1      245     54.20%\r\n",
       "      2       44      9.73%\r\n",
       "      3       15      3.32%\r\n",
       "      4       15      3.32%\r\n",
       "      5       13      2.88%\r\n",
       "      6       25      5.53%\r\n",
       "      7        3      0.66%\r\n",
       "      8        2      0.44%\r\n",
       "      9        9      1.99%\r\n",
       "     10       50     11.06%\r\n",
       "     14        4      0.88%\r\n",
       "     15        5      1.11%\r\n",
       "     16       22      4.87%"
      ]
     },
     "execution_count": 24,
     "metadata": {},
     "output_type": "execute_result"
    }
   ],
   "source": [
    "load arrhythmia\n",
    "[n,p] = size(X)\n",
    "isLabels = unique(Y);\n",
    "nLabels = numel(isLabels)\n",
    "tabulate(categorical(Y))"
   ]
  },
  {
   "cell_type": "markdown",
   "metadata": {},
   "source": [
    "There are 279 predictors, and a relatively small sample size of 452. There are 16 distinct labels, but only 13 are represented in the response (Y), and each label describes various degrees of arrhythmia. 54.20% of the observations are in class 1."
   ]
  },
  {
   "cell_type": "markdown",
   "metadata": {},
   "source": [
    "Create an ensemble template. You must specify at least three arguments: a method, a number of learners, and the type of learner. For this example, specify 'GentleBoost' for the method, 100 for the number of learners, and a decision tree template that uses surrogate splits since there are missing observations."
   ]
  },
  {
   "cell_type": "code",
   "execution_count": 25,
   "metadata": {
    "collapsed": false
   },
   "outputs": [
    {
     "data": {},
     "execution_count": 25,
     "metadata": {},
     "output_type": "execute_result"
    }
   ],
   "source": [
    "tTree = templateTree('surrogate','on');\n",
    "tEnsemble = templateEnsemble('GentleBoost',100,tTree);"
   ]
  },
  {
   "cell_type": "markdown",
   "metadata": {},
   "source": [
    "tEnsemble is a template object. Most of its properties are empty, but the software fills them with their default values during training.\n",
    "\n"
   ]
  },
  {
   "cell_type": "markdown",
   "metadata": {},
   "source": [
    "Train a one-versus-all ECOC classifier using the ensembles of decision trees as binary learners. If you have a Parallel Computing Toolbox™ license, then you can speed up the computation by specifying to use parallel computing. This sends each binary learner to a worker in the pool (the number of workers depends on your system configuration). Also, specify that the prior probabilities are 1/K, where K = 13, which is the number of distinct classes."
   ]
  },
  {
   "cell_type": "code",
   "execution_count": null,
   "metadata": {
    "collapsed": true
   },
   "outputs": [],
   "source": [
    "pool = parpool; % Invoke workers\n",
    "options = statset('UseParallel',1);\n",
    "Mdl = fitcecoc(X,Y,'Coding','onevsall','Learners',tEnsemble,...\n",
    "                'Prior','uniform','Options',options);"
   ]
  },
  {
   "cell_type": "markdown",
   "metadata": {},
   "source": [
    "Mdl is a ClassificationECOC model.\n",
    "\n"
   ]
  },
  {
   "cell_type": "markdown",
   "metadata": {},
   "source": [
    "Cross validate the ECOC classifier using 10-fold cross validation.\n",
    "\n"
   ]
  },
  {
   "cell_type": "code",
   "execution_count": null,
   "metadata": {
    "collapsed": true
   },
   "outputs": [],
   "source": [
    "CVMdl = crossval(Mdl,'Options',options);"
   ]
  },
  {
   "cell_type": "markdown",
   "metadata": {},
   "source": [
    "CVMdl is a ClassificationPartitionedECOC model. The warning indicates that some classes are not represented while the software trains at least one fold. Therefore, those folds cannot predict labels for the missing classes. You can inspect the results of a fold using cell indexing and dot notation, e.g., access the results of the first fold by entering CVMdl.Trained{1}. Your results might vary."
   ]
  },
  {
   "cell_type": "markdown",
   "metadata": {},
   "source": [
    "Use the cross-validated ECOC classifier to predict out-of-fold labels. You can compute the confusion matrix using confusionmat. However, if you have a Neural Network Toolbox™ license, you can plot the confusion matrix using plotconfusion. The input arguments of plotconfusion are not vectors of the true and predicted labels like confusionmat, but indicator matrices of the true and predicted labels. Both start as K-by-n matrices of 0s. If observation j has label index k (or has predicted label k), then element (k,j) of the true label indicator matrix (or predicted label indicator matrix) is 1. You can convert label indices returned by predict, resubPredict, or kfoldPredict to label indicator matrices using linear indexing. For details on linear indexing, see sub2ind and ind2sub.\n",
    "\n"
   ]
  },
  {
   "cell_type": "code",
   "execution_count": null,
   "metadata": {
    "collapsed": true
   },
   "outputs": [],
   "source": [
    "oofLabel = kfoldPredict(CVMdl,'Options',options);\n",
    "ConfMat = confusionmat(Y,oofLabel);\n",
    "\n",
    "% Convert the integer label vector to a class-identifier matrix.\n",
    "[~,grp] = ismember(oofLabel,isLabels);\n",
    "oofLabelMat = zeros(nLabels,n);\n",
    "idxLinear = sub2ind([nLabels n],grp,(1:n)');\n",
    "oofLabelMat(idxLinear) = 1; % Flags the row corresponding to the class\n",
    "YMat = zeros(nLabels,n);\n",
    "idxLinearY = sub2ind([nLabels n],grp,(1:n)');\n",
    "YMat(idxLinearY) = 1;\n",
    "\n",
    "figure;\n",
    "plotconfusion(YMat,oofLabelMat);\n",
    "h = gca;\n",
    "h.XTickLabel = [num2cell(isLabels); {''}];\n",
    "h.YTickLabel = [num2cell(isLabels); {''}];"
   ]
  },
  {
   "cell_type": "code",
   "execution_count": null,
   "metadata": {
    "collapsed": true
   },
   "outputs": [],
   "source": []
  }
 ],
 "metadata": {
  "kernelspec": {
   "display_name": "Matlab",
   "language": "matlab",
   "name": "matlab_kernel"
  },
  "language_info": {
   "file_extension": ".m",
   "help_links": [
    {
     "text": "MetaKernel Magics",
     "url": "https://github.com/calysto/metakernel/blob/master/metakernel/magics/README.md"
    }
   ],
   "mimetype": "text/x-matlab",
   "name": "octave"
  }
 },
 "nbformat": 4,
 "nbformat_minor": 0
}
